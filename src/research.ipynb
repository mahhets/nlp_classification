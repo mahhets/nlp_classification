{
 "cells": [
  {
   "cell_type": "markdown",
   "metadata": {
    "collapsed": true,
    "pycharm": {
     "name": "#%% md\n"
    }
   },
   "source": []
  },
  {
   "cell_type": "markdown",
   "source": [
    "Необходимо классифицировать сообщения на предмет того, из какого чата они были взяты.\n",
    "Датасет представляет собой сообщения участников двух публичных чатов:\n",
    "- Чат по Python (label=0)\n",
    "- Чат по Data Science (label=1)\n",
    "\n",
    "\n",
    "### Задачи:\n",
    "1. Сделать предобработку текстов\n",
    "2. Предложить модель классификации, метрики.\n",
    "3. Объяснить их выбор (достоинства/недостатки).\n",
    "4. Сделать выводы по работе модели(ей) (достоинства/недостатки),\n",
    "а также проблемы, с которыми вы или ваша модель столкнулась.\n"
   ],
   "metadata": {
    "collapsed": false,
    "pycharm": {
     "name": "#%% md\n"
    }
   }
  }
 ],
 "metadata": {
  "kernelspec": {
   "display_name": "Python 3",
   "language": "python",
   "name": "python3"
  },
  "language_info": {
   "codemirror_mode": {
    "name": "ipython",
    "version": 2
   },
   "file_extension": ".py",
   "mimetype": "text/x-python",
   "name": "python",
   "nbconvert_exporter": "python",
   "pygments_lexer": "ipython2",
   "version": "2.7.6"
  }
 },
 "nbformat": 4,
 "nbformat_minor": 0
}